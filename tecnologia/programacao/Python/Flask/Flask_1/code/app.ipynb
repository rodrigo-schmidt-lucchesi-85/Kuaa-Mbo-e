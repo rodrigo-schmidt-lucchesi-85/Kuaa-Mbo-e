{
 "cells": [
  {
   "cell_type": "markdown",
   "metadata": {},
   "source": [
    "## Caderno Iterativo - Iterative Notebook\n",
    "---"
   ]
  },
  {
   "cell_type": "markdown",
   "metadata": {},
   "source": [
    "### Português - BR\n",
    "\n",
    "Neste caderno iterativo, você poderá testar o código utilizado no tutorial existente na Medium:\n",
    "\n",
    "- https://medium.com/@rodrigo.schmidt.lucchesi/flask-full-stack-5144b5e9ee4d\n",
    "\n",
    "Eu o desafio a modificar o código original, testando novas features para o seu web app. Utilize ambos os arquivos **HTML** e **Python** para auxiliar no seu aprendizado. Estas são ótimas referência para te auxiliar:\n",
    "\n",
    "- https://flask.palletsprojects.com/en/1.1.x/api/\n",
    "\n",
    "- https://flask.palletsprojects.com/en/1.1.x/\n",
    "\n",
    "Boa sorte!\n",
    "\n",
    ": )"
   ]
  },
  {
   "cell_type": "markdown",
   "metadata": {},
   "source": [
    "### English - U.S\n",
    "\n",
    "In this interactive notebook, you will be able to test Medium's tutorial code, detailed below. The tutorial webpage could be found at:\n",
    "\n",
    "- https://medium.com/@rodrigo.schmidt.lucchesi/flask-full-stack-5144b5e9ee4d\n",
    "\n",
    "I challenge you to modify this original program, testing new features to your web app. Use both files **HTML** & **Python** to affect deeply on your learning process. These are great resources to help you out:\n",
    "\n",
    "- https://flask.palletsprojects.com/en/1.1.x/api/\n",
    "\n",
    "- https://flask.palletsprojects.com/en/1.1.x/\n",
    "\n",
    "Good Luck!\n",
    "\n",
    ": )\n"
   ]
  },
  {
   "cell_type": "code",
   "execution_count": null,
   "metadata": {},
   "outputs": [],
   "source": [
    "from flask import Flask, render_template, request\n",
    "app = Flask(__name__)\n",
    "\n",
    "\n",
    "@app.route('/', methods=['GET', 'POST'])\n",
    "def pagina_inicial():\n",
    "    if request.method == 'POST':\n",
    "        formulario_preenchido_pelo_usuario = request.form.get('entrada',\"\")\n",
    "        frase_para_encaminhar_para_tela = formulario_preenchido_pelo_usuario\n",
    "        return render_template('pagina_inicial.html', dados=frase_para_encaminhar_para_tela)\n",
    "    else:\n",
    "        frase_para_encaminhar_para_tela = 'Pythonista!'\n",
    "        return render_template('pagina_inicial.html',\n",
    "                               dados=frase_para_encaminhar_para_tela)\n",
    "\n",
    "\n",
    "if __name__ == \"__main__\":\n",
    "    app.run()"
   ]
  },
  {
   "cell_type": "code",
   "execution_count": null,
   "metadata": {},
   "outputs": [],
   "source": []
  }
 ],
 "metadata": {
  "kernelspec": {
   "display_name": "Python 3",
   "language": "python",
   "name": "python3"
  },
  "language_info": {
   "codemirror_mode": {
    "name": "ipython",
    "version": 3
   },
   "file_extension": ".py",
   "mimetype": "text/x-python",
   "name": "python",
   "nbconvert_exporter": "python",
   "pygments_lexer": "ipython3",
   "version": "3.7.6"
  }
 },
 "nbformat": 4,
 "nbformat_minor": 4
}
